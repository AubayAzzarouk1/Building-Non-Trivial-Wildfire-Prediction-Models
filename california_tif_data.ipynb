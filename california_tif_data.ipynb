import ee
import time  # ✅ Import time for waiting during task execution
import os
import concurrent.futures
from datetime import datetime, timedelta
from google.colab import auth, drive

# Mount Google Drive
drive.mount('/content/drive')

# Authenticate Google Earth Engine
try:
    ee.Initialize()
except Exception:
    ee.Authenticate()
    ee.Initialize(project="ee-jaredhayes2000")

print("Google Earth Engine Initialized Successfully")

# Authenticate Google Drive
auth.authenticate_user()

# Define output folder
drive_folder = "/content/drive/My Drive/wildfire_project/LSTM_Data"
os.makedirs(drive_folder, exist_ok=True)

# Define dataset resolutions
resolution_default = 10000  # 10 km for environmental data
resolution_frp = 375  # 375m for fire intensity data

# Select all counties in California
counties = ee.FeatureCollection("TIGER/2018/Counties").filter(ee.Filter.eq("STATEFP", "06"))

# Set date range
start_year = 2013
end_year = 2024

print("Starting Batch Processing...")

# Function to process a batch and wait for completion
def process_batch(year, month):
    start_date = datetime(year, month, 1)
    end_date = start_date + timedelta(days=30)

    print(f"\nProcessing {year}-{month}...")

    # Prepare image collections (10km resolution)
    ndvi = ee.ImageCollection("MODIS/006/MOD09GA").filterDate(str(start_date.date()), str(end_date.date())).map(
        lambda img: img.normalizedDifference(["sur_refl_b02", "sur_refl_b01"]).rename("NDVI")
    ).mean()

    temp = ee.ImageCollection("ECMWF/ERA5_LAND/HOURLY").select("temperature_2m").filterDate(str(start_date.date()), str(end_date.date())).mean()
    dew = ee.ImageCollection("ECMWF/ERA5_LAND/HOURLY").select("dewpoint_temperature_2m").filterDate(str(start_date.date()), str(end_date.date())).mean()
    wind_speed = ee.ImageCollection("ECMWF/ERA5_LAND/HOURLY").select("u_component_of_wind_10m").filterDate(str(start_date.date()), str(end_date.date())).mean()
    wind_dir = ee.ImageCollection("ECMWF/ERA5_LAND/HOURLY").select("v_component_of_wind_10m").filterDate(str(start_date.date()), str(end_date.date())).mean()

    # Process FRP separately at 375m
    fire_intensity = ee.ImageCollection("NOAA/VIIRS/001/VNP14A1").select(["MaxFRP", "FireMask"]).filterDate(str(start_date.date()), str(end_date.date())).map(
        lambda img: img.updateMask(img.select("FireMask").gt(0))
    ).select("MaxFRP").sum().resample('bilinear')

    # Resample all other layers to 10km
    ndvi = ndvi.resample('bilinear').reproject(crs='EPSG:4326', scale=10000)
    temp = temp.resample('bilinear').reproject(crs='EPSG:4326', scale=10000)
    dew = dew.resample('bilinear').reproject(crs='EPSG:4326', scale=10000)
    wind_speed = wind_speed.resample('bilinear').reproject(crs='EPSG:4326', scale=10000)
    wind_dir = wind_dir.resample('bilinear').reproject(crs='EPSG:4326', scale=10000)

    # FIX: Convert all layers to Float32 to ensure consistency
    stacked_image = ee.Image.cat([
        ndvi.toFloat(),
        temp.toFloat(),
        dew.toFloat(),
        wind_speed.toFloat(),
        wind_dir.toFloat(),
        fire_intensity.toFloat()  # FRP data converted to Float32
    ])

    # Export to Google Drive
    task = ee.batch.Export.image.toDrive(
        image=stacked_image,
        description=f"LSTM_Data_{year}_{month}",
        folder="LSTM_Data",
        fileNamePrefix=f"LSTM_Data_{year}_{month}",
        scale=10000,  # Default scale (10km) for most layers
        region=counties.geometry(),
        maxPixels=1e13
    )

    task.start()
    print(f"Started export task for {year}-{month}. Now waiting for completion...")

    # Wait for task completion (Fixing NameError)
    while task.active():
        print(f"Task {year}-{month} still running... Checking again in 30 seconds.")
        time.sleep(30)  # ✅ This now works since time module is imported

    # Check final status
    task_status = task.status()
    if task_status["state"] == "COMPLETED":
        print(f"Task {year}-{month} completed successfully! ")
    else:
        print(f"Task {year}-{month} failed - Error: {task_status['error_message']}")

# **Limit number of simultaneous tasks**
max_concurrent_tasks = 3  # Google Earth Engine usually limits parallel exports

# Use ThreadPoolExecutor to manage parallel processing with limited concurrency
with concurrent.futures.ThreadPoolExecutor(max_workers=max_concurrent_tasks) as executor:
    futures = [executor.submit(process_batch, year, month) for year in range(start_year, end_year + 1) for month in range(1, 13)]

    # Ensure all tasks are completed
    for future in concurrent.futures.as_completed(futures):
        future.result()

print("All batch processes finished. Data is now in Google Drive.")
